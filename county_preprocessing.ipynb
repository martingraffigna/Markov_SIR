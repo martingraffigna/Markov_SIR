{
 "cells": [
  {
   "cell_type": "code",
   "execution_count": 2,
   "metadata": {},
   "outputs": [],
   "source": [
    "import numpy as np\n",
    "import pandas as pd"
   ]
  },
  {
   "cell_type": "markdown",
   "metadata": {},
   "source": [
    "# GA County Pop"
   ]
  },
  {
   "cell_type": "code",
   "execution_count": 4,
   "metadata": {},
   "outputs": [
    {
     "name": "stdout",
     "output_type": "stream",
     "text": [
      "Index(['fips', 'pop2025', 'pop2020', 'state', 'stateCode', 'growthSince2020',\n",
      "       'name', 'county', 'slug', 'areaMi', 'densityMi', 'rank'],\n",
      "      dtype='object')\n"
     ]
    }
   ],
   "source": [
    "county = pd.read_csv('county_pop.csv')\n",
    "print(county.columns)"
   ]
  },
  {
   "cell_type": "code",
   "execution_count": 5,
   "metadata": {},
   "outputs": [
    {
     "name": "stdout",
     "output_type": "stream",
     "text": [
      "Highest density: DeKalb County with 2856.0373134328356 people per square mile\n",
      "Lowest density: Baker County with 7.733918128654971 people per square mile\n",
      "Random County: Hart County with 124.55172413793105 people per square mile\n"
     ]
    }
   ],
   "source": [
    "highest_density = county.loc[county['densityMi'].idxmax()]\n",
    "lowest_density = county.loc[county['densityMi'].idxmin()]\n",
    "random_density = county.loc[county['densityMi'].sample().index[0]]\n",
    "print(f\"Highest density: {highest_density['county']} with {highest_density['densityMi']} people per square mile\")\n",
    "print(f\"Lowest density: {lowest_density['county']} with {lowest_density['densityMi']} people per square mile\")\n",
    "print(f\"Random County: {random_density['county']} with {random_density['densityMi']} people per square mile\")"
   ]
  },
  {
   "cell_type": "code",
   "execution_count": 6,
   "metadata": {},
   "outputs": [],
   "source": [
    "file_path = 'populations.csv'\n",
    "def init_state(file_path):\n",
    "    input = pd.read_csv(file_path)\n",
    "    input = pd.DataFrame(np.array([input.values.flatten(),[0]*input.shape[0],[0]*input.shape[0]]).T,columns=['S','I','R'])\n",
    "    location = np.where(input['S'] == input['S'].max())[0][0]\n",
    "    input.loc[location, \"I\"] = 250\n",
    "    return input"
   ]
  },
  {
   "cell_type": "code",
   "execution_count": 7,
   "metadata": {},
   "outputs": [],
   "source": [
    "init_state(file_path).to_csv('init_state.csv', index=False)"
   ]
  },
  {
   "cell_type": "code",
   "execution_count": 4,
   "metadata": {},
   "outputs": [
    {
     "name": "stdout",
     "output_type": "stream",
     "text": [
      "Index(['pop2025', 'county'], dtype='object')\n",
      "<bound method NDFrame.head of      pop2025             county\n",
      "0    1089919      Fulton County\n",
      "1     998232    Gwinnett County\n",
      "2     786549        Cobb County\n",
      "3     765418      DeKalb County\n",
      "4     308915     Chatham County\n",
      "..       ...                ...\n",
      "154     2853        Clay County\n",
      "155     2645       Baker County\n",
      "156     2337     Webster County\n",
      "157     2322     Quitman County\n",
      "158     1611  Taliaferro County\n",
      "\n",
      "[159 rows x 2 columns]>\n"
     ]
    }
   ],
   "source": [
    "county = county.drop(columns=['fips','pop2020','state','stateCode','growthSince2020','slug','areaMi','rank','name','densityMi'])\n",
    "print(county.columns)\n",
    "print(county.head)"
   ]
  },
  {
   "cell_type": "code",
   "execution_count": 5,
   "metadata": {},
   "outputs": [],
   "source": [
    "# order populations same as transition matrix\n",
    "# sort populations alphabetically\n",
    "county = county.sort_values(by='county').drop(columns=['county'])\n",
    "county.to_csv(\"populations.csv\", index=False)"
   ]
  },
  {
   "cell_type": "markdown",
   "metadata": {},
   "source": [
    "# US County Pop"
   ]
  },
  {
   "cell_type": "code",
   "execution_count": 47,
   "metadata": {},
   "outputs": [
    {
     "name": "stdout",
     "output_type": "stream",
     "text": [
      "Index(['countyFIPS', 'County Name', 'State', 'population'], dtype='object')\n"
     ]
    }
   ],
   "source": [
    "counties = pd.read_csv('covid_county_population_usafacts.csv')\n",
    "print(counties.columns)"
   ]
  },
  {
   "cell_type": "code",
   "execution_count": 48,
   "metadata": {},
   "outputs": [
    {
     "name": "stdout",
     "output_type": "stream",
     "text": [
      "Total population in Georgia counties: 10617423\n"
     ]
    }
   ],
   "source": [
    "# filter for Georgia counties\n",
    "ga_counties = counties.loc[counties['State'] == 'GA']\n",
    "# drop unnecessary columns\n",
    "ga_counties = ga_counties.drop(columns=['State', 'countyFIPS'])\n",
    "# drop rows with missing population\n",
    "ga_counties = ga_counties[ga_counties['population'] != 0]\n",
    "ga_counties.reset_index(drop=True, inplace=True)\n",
    "ga_pop = ga_counties['population'].values.sum()\n",
    "print(f\"Total population in Georgia counties: {ga_pop}\")"
   ]
  },
  {
   "cell_type": "code",
   "execution_count": 49,
   "metadata": {},
   "outputs": [],
   "source": [
    "ga_counties.to_csv('populations.csv', index=False)"
   ]
  },
  {
   "cell_type": "code",
   "execution_count": 50,
   "metadata": {},
   "outputs": [],
   "source": [
    "# infected counties \n",
    "infected_counties = {'Bartow County': 3, 'Charlton County': 1, 'Cherokee County': 2, 'Cobb County': 8, 'DeKalb County': 5, 'Fayette County': 4, 'Floyd County': 1, 'Fulton County': 8, 'Gordon County': 2, 'Gwinnett County': 2, 'Lee County': 1, 'Lowndes County': 1, 'Polk County': 1}\n",
    "# add SIR columns to the dataframe\n",
    "ga_counties['S'] = ga_counties['population']\n",
    "ga_counties['I'] = 0\n",
    "ga_counties['R'] = 0\n",
    "# set infected counties to the number of infected\n",
    "for county, infected in infected_counties.items():\n",
    "    ga_counties.loc[ga_counties['County Name'] == county, 'I'] = infected\n",
    "    ga_counties.loc[ga_counties['County Name'] == county, 'S'] -= infected\n"
   ]
  },
  {
   "cell_type": "code",
   "execution_count": 42,
   "metadata": {},
   "outputs": [
    {
     "name": "stdout",
     "output_type": "stream",
     "text": [
      "59\n"
     ]
    }
   ],
   "source": [
    "# get index of fulton county\n",
    "fulton_index = ga_counties[ga_counties['County Name'] == 'Fulton County'].index[0]\n",
    "print(fulton_index)"
   ]
  },
  {
   "cell_type": "code",
   "execution_count": 51,
   "metadata": {},
   "outputs": [
    {
     "name": "stdout",
     "output_type": "stream",
     "text": [
      "0\n"
     ]
    }
   ],
   "source": [
    "appling_index = ga_counties[ga_counties['County Name'] == 'Appling County'].index[0]\n",
    "print(appling_index)"
   ]
  },
  {
   "cell_type": "code",
   "execution_count": 43,
   "metadata": {},
   "outputs": [],
   "source": [
    "ga_counties = ga_counties.drop(columns=['County Name', 'population'])"
   ]
  },
  {
   "cell_type": "code",
   "execution_count": 44,
   "metadata": {},
   "outputs": [
    {
     "data": {
      "text/plain": [
       "39"
      ]
     },
     "execution_count": 44,
     "metadata": {},
     "output_type": "execute_result"
    }
   ],
   "source": [
    "ga_counties['I'].sum()"
   ]
  },
  {
   "cell_type": "code",
   "execution_count": 45,
   "metadata": {},
   "outputs": [],
   "source": [
    "ga_counties.to_csv('init_state.csv', index=False)"
   ]
  }
 ],
 "metadata": {
  "kernelspec": {
   "display_name": "Python 3",
   "language": "python",
   "name": "python3"
  },
  "language_info": {
   "codemirror_mode": {
    "name": "ipython",
    "version": 3
   },
   "file_extension": ".py",
   "mimetype": "text/x-python",
   "name": "python",
   "nbconvert_exporter": "python",
   "pygments_lexer": "ipython3",
   "version": "3.12.0"
  }
 },
 "nbformat": 4,
 "nbformat_minor": 2
}
