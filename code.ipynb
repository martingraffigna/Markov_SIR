{
 "cells": [
  {
   "cell_type": "code",
   "execution_count": null,
   "metadata": {},
   "outputs": [
    {
     "name": "stdout",
     "output_type": "stream",
     "text": [
      "262.81144081401555\n"
     ]
    }
   ],
   "source": [
    "import numpy as np\n",
    "import pandas as pd\n",
    "from sir_model import apply_sir\n",
    "from sir_travel_prob import prob_builder\n",
    "from mc_next_state import mc_next_state \n",
    "from builder import matrix_builder\n",
    "'''\n",
    "def init_state(read_file):\n",
    "    \"\"\"\n",
    "    Initializes the state of the Markov chain from the input file.\n",
    "\n",
    "    Parameters:\n",
    "    - read_file (str): Path to the file to read.\n",
    "\n",
    "    Returns:\n",
    "    - ndarray: 3xN array representing the initial SIR population distribution.\n",
    "    \"\"\"\n",
    "    data = pd.read_csv(read_file, header=None)#Assuming data.shape = Nx3 \n",
    "    data = data.to_numpy().T\n",
    "    return data\n",
    "\n",
    "def matrix_builder(read_file):\n",
    "    \"\"\"\n",
    "    Builds the transition matrix from the input file.\n",
    "\n",
    "    Parameters:\n",
    "    - read_file (str): Path to the file to read.\n",
    "\n",
    "    Returns:\n",
    "    - ndarray: 3xNxN array with transition probabilities to each city.\n",
    "    \"\"\"\n",
    "    data = pd.read_csv(read_file, header=None)#Assuming data.shape = 3NxN \n",
    "    data = data.to_numpy()\n",
    "    data = data.reshape(3, data.shape[1], data.shape[0]//3)\n",
    "    return data\n",
    "\n",
    "def sir_next_step(S, I, R, beta, gamma):\n",
    "    N = S + I + R\n",
    "    S_next = S - beta*S*I/N\n",
    "    I_next = I + beta*S*I/N - gamma*I\n",
    "    R_next = R + gamma*I\n",
    "    return S_next, I_next, R_next\n",
    "\n",
    "def mc_next_state(initial_state, transition_matrix):\n",
    "    \"\"\"\n",
    "    Computes the next state in the Markov chain.\n",
    "\n",
    "    Parameters:\n",
    "    - initial_state (ndarray): 3XN array representing the initial SIR population distribution. (3,i)\n",
    "    - transition_matrix (ndarray): 3xNxN array with transition probabilities to each city. (3,i,j)\n",
    "\n",
    "    Returns:\n",
    "    - ndarray: 3xN array representing the next state.\n",
    "    \"\"\"\n",
    "    next_state = np.einsum('ci,cij->cj', initial_state, transition_matrix) # \n",
    "    return next_state\n",
    "\n",
    "'''\n",
    "beta = 0.5\n",
    "gamma = 0.13\n",
    "params = [beta, gamma]\n",
    "days = 1\n",
    "times = np.linspace(0, days, days+1)\n",
    "\n",
    "S_prob = 0.6\n",
    "I_prob = 0.8\n",
    "R_prob = 0\n",
    "\n",
    "TM = pd.read_csv(\"TransitionMatrixDBS.csv\").to_numpy()[:,1:] #NxN, read the transition matrix\n",
    "S_travelprob = prob_builder(TM,S_prob)  \n",
    "I_travelprob = prob_builder(TM,I_prob)\n",
    "R_travelprob = prob_builder(TM,R_prob)\n",
    "\n",
    "S_tran = matrix_builder(TM, S_travelprob) \n",
    "I_tran = matrix_builder(TM, I_travelprob)\n",
    "R_tran = matrix_builder(TM, R_travelprob)\n",
    "SIR_tran = np.stack([S_tran,I_tran,R_tran],axis=0) #3xNxN\n",
    "\n",
    "\n",
    "def main():\n",
    "    state = pd.read_csv('init_state.csv').to_numpy()\n",
    "\n",
    "    for i in range(31):\n",
    "        N = apply_sir(pd.DataFrame(state, columns=[\"S\", \"I\", \"R\"]), params, times)\n",
    "        state = mc_next_state(initial_state=N, transition_matrix=SIR_tran)\n",
    "    return state\n",
    "\n",
    "year = main()\n"
   ]
  },
  {
   "cell_type": "code",
   "execution_count": 26,
   "metadata": {},
   "outputs": [
    {
     "name": "stdout",
     "output_type": "stream",
     "text": [
      "S 87038.88295787727\n",
      "I 81031.30154368938\n",
      "R 99762.55317922124\n"
     ]
    }
   ],
   "source": [
    "print(\"S\", year[:,0].max())\n",
    "print(\"I\", year[:,1].max())\n",
    "print(\"R\", year[:,2].max())"
   ]
  },
  {
   "cell_type": "code",
   "execution_count": 27,
   "metadata": {},
   "outputs": [
    {
     "name": "stdout",
     "output_type": "stream",
     "text": [
      "all suscpetible 3699475.9545660857\n",
      "all infected 4293074.79502373\n",
      "all recovered 3269079.918237383\n"
     ]
    }
   ],
   "source": [
    "print(\"all suscpetible\", year[:,0].sum())\n",
    "print(\"all infected\", year[:,1].sum())\n",
    "print(\"all recovered\", year[:,2].sum())"
   ]
  }
 ],
 "metadata": {
  "kernelspec": {
   "display_name": "Python 3",
   "language": "python",
   "name": "python3"
  },
  "language_info": {
   "codemirror_mode": {
    "name": "ipython",
    "version": 3
   },
   "file_extension": ".py",
   "mimetype": "text/x-python",
   "name": "python",
   "nbconvert_exporter": "python",
   "pygments_lexer": "ipython3",
   "version": "3.13.1"
  }
 },
 "nbformat": 4,
 "nbformat_minor": 2
}
